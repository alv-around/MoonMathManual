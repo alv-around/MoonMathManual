{
 "cells": [
  {
   "cell_type": "markdown",
   "id": "7c60c5b3-f3d2-4896-ab68-79f09fc4695c",
   "metadata": {},
   "source": [
    "## Exercise 114.\n",
    "\n",
    "> Implement the Baby-JubJub twisted Edwards curve equation in Circom and compile it into an R1CS and associated witness generator.\n",
    "\n",
    "```bash\n",
    "$ circom ex114.circom --r1cs --wasm --sym --c\n",
    "$ cd ex114_js  \n",
    "$ node generate_witness.js ex114.wasm ../ex114_witness.json ex114_witness.wtns\n",
    "```\n",
    "\n",
    "## Exercise 115. \n",
    "\n",
    "> Consider exercise 114 and execute a 3-party trusted setup phase for the baby- jubjub circuit.\n",
    "\n",
    "## Exercise 116. \n",
    "\n",
    "> Consider exercise 114 and the CRS from exercise 115. Use Sage to generate a valid curve point on the Baby-JubJub curve in twisted Edwards form, that is not the neutral element and use this point as input to the circuit. Generate a witness for this input and use Snark.js to compute an instance as well as a zk-SNARK for this witness.\n",
    "\n",
    "## Exercise 117. \n",
    "\n",
    "> Consider exercise 114, the CRS from exercise 115 as well as the instance and zk-SNARK from exercise 116 and verify the zk-SNARK against the instance.\n"
   ]
  },
  {
   "cell_type": "code",
   "execution_count": null,
   "id": "56b7bb39-a1f4-437f-b562-c63efaa20124",
   "metadata": {},
   "outputs": [],
   "source": []
  }
 ],
 "metadata": {
  "kernelspec": {
   "display_name": "SageMath 10.3",
   "language": "sage",
   "name": "sagemath-10.3"
  },
  "language_info": {
   "codemirror_mode": {
    "name": "ipython",
    "version": 3
   },
   "file_extension": ".py",
   "mimetype": "text/x-python",
   "name": "python",
   "nbconvert_exporter": "python",
   "pygments_lexer": "ipython3",
   "version": "3.11.8"
  }
 },
 "nbformat": 4,
 "nbformat_minor": 5
}
