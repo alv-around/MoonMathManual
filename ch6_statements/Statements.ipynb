{
 "cells": [
  {
   "cell_type": "markdown",
   "id": "57d62ece-0564-411c-9349-4336b36c8ea6",
   "metadata": {},
   "source": [
    "## Exercise 96.\n",
    "\n",
    "Define a decision function such that the associated language $L_{Exercise1}$ consists of all solutions to the equation $5x + 4 = 28 + 2x$ over $\\mathbb{F}_{13}$. Provide a constructive proof for the claim: “There exists a word in $L_{Exercise1}$, and verify the proof.\n",
    "\n",
    "**Solution:**\n",
    "\n",
    "$\\Sigma = \\mathbb{Z}_{13}$\n",
    "\n",
    "$R_{Exercise1} : \\Sigma^* \\rightarrow \\{\\text{true}, \\text{false}\\} ; \\langle x_1, \\ldots, x_n \\rangle \\mapsto\n",
    "\\begin{cases}\n",
    "    \\text{true} & \\text{if } n = 1 \\text{ and } 3 \\cdot x_1 + 2 = 0 \\\\\n",
    "    \\text{false} & \\text{else}\n",
    "\\end{cases} $\n",
    "\n",
    "## Exercise 97.\n",
    "\n",
    "Consider modular $6$ arithmetic ($\\mathbb{Z}_6$) from example $11$, the alphabet $\\Sigma = \\mathbb{Z}_6$, and the following decision function:\n",
    "\n",
    "$R_{example\\_11} : \\Sigma^* \\rightarrow \\{\\text{true}, \\text{false}\\} ; \\langle x_1, \\ldots, x_n \\rangle \\mapsto\n",
    "\\begin{cases}\n",
    "    \\text{true} & \\text{if } n = 1 \\text{ and } 3 \\cdot x_1 + 3 = 0 \\\\\n",
    "    \\text{false} & \\text{else}\n",
    "\\end{cases} $\n",
    "\n",
    "Compute all words in the associated language $L_{example\\_11}$, provide a constructive proof for the statement “There exists a word in $L_{example\\_11}$” and verify the proof.\n",
    "\n",
    "**Solution:**\n",
    "\n",
    "$L_{example\\_11} = \\{ \\langle x_1, ..., x_n \\rangle \\in \\Sigma^* | R_{example\\_11}(\\langle x_1, ..., x_n \\rangle) = \\text{true} \\}$"
   ]
  },
  {
   "cell_type": "code",
   "execution_count": 16,
   "id": "044af000-79e9-480d-abdd-08388b33401a",
   "metadata": {},
   "outputs": [
    {
     "name": "stdout",
     "output_type": "stream",
     "text": [
      "L_example11 = [1, 3, 5]\n"
     ]
    }
   ],
   "source": [
    "Z6 = Integers(6)\n",
    "Z6x = Z6['x']\n",
    "print(f\"L_example11 = {[x for x in range(6) if 3 * Z6x(x) + 3 == 0]}\")"
   ]
  },
  {
   "cell_type": "markdown",
   "id": "8f1658b7-096b-43d9-838b-fd34b0eae283",
   "metadata": {},
   "source": [
    "## Exercise 98.\n",
    "\n",
    "Consider the modular $6$ arithmetic $\\mathbb{Z}_6$ from example $11$ as the alphabets $\\Sigma_I$ and $\\Sigma_W$, and the following decision function: \n",
    "\n",
    "$R_{linear} : \\Sigma_I^* \\times \\Sigma_W^* \\rightarrow \\{ \\text{true}, \\text{false} \\};\n",
    "\\begin{cases}\n",
    "    \\text{true} & |i| = 3 \\text{ and } |w| = 1 \\text{ and } i_1 \\cdot w_1 + i_2 = i_3\\\\\n",
    "    \\text{false} & \\text{else}\n",
    "\\end{cases}$\n",
    "\n",
    "Which of the following instances $(i_1, i_2, i_3)$ has a proof of knowledge in $L_{linear}$? \n",
    "\n",
    "$(3, 3, 0)$, $(2, 1, 0)$, $(4, 4, 2)$\n",
    "\n",
    "**Solution:**"
   ]
  },
  {
   "cell_type": "code",
   "execution_count": 15,
   "id": "65e30728-2b04-423a-ba17-f3b4e7859423",
   "metadata": {},
   "outputs": [
    {
     "name": "stdout",
     "output_type": "stream",
     "text": [
      "The following points have a proof of knowledge in L_linear:\n",
      "(3, 3, 0)\n",
      "(4, 4, 2)\n"
     ]
    }
   ],
   "source": [
    "points = [(3,3,0), (2,1,0), (4,4,2)]\n",
    "print(\"The following points have a proof of knowledge in L_linear:\")\n",
    "for x,y,z in points:\n",
    "    for w in range(6):\n",
    "        if Z6x(x) * Z6x(w) + Z6x(y) == Z6x(z):\n",
    "            print(f\"({x}, {y}, {z})\")\n",
    "            break"
   ]
  },
  {
   "cell_type": "markdown",
   "id": "cede8489-82ab-4df3-a1cb-0934580ab589",
   "metadata": {},
   "source": [
    "## Exercise 99 (Edwards Addition on Tiny-jubjub).\n",
    "\n",
    "Consider the Tiny-jubjub curve together with its twisted Edwards addition law from example $71$. Define an instance alphabet $\\Sigma_I$, a witness alphabet $\\Sigma_W$, and a decision function $R_{add}$ with associated language $L_{add}$ such that a string $(i; w) \\in \\Sigma^*_I \\times \\Sigma_W^*$ is a word in $L_{add}$ if and only if $i$ is a pair of curve points on the Tiny-jubjub curve in Edwards form, and $w$ is the sum of those curve points.\n",
    "\n",
    "Choose some instance $i \\in \\Sigma^*_I$, provide a constructive proof for the statement “There is a witness $w \\in \\Sigma_W^*$ such that $(i; w)$ is a word in $L_{add}$”, and verify that proof. Then find some instance $i \\in \\Sigma^*_I$ such that $i$ has no knowledge proof in $L_{add}$.\n",
    "\n",
    "**solution:**\n",
    "\n",
    "$\\Sigma_W^* = \\{ (x, y) | 3 \\cdot x^2 + y^2 == 1 + 8 * x^2 * y^2 \\} \\cup \\{ (0, 1) \\}$\n",
    "\n",
    "$\\Sigma_I^* = \\Sigma_W^* x \\Sigma_W^*$\n",
    "\n",
    "$R_{add} : \\Sigma^*_I x \\Sigma_W^* \\rightarrow \\{\\text{true}, \\text{false}\\} ; \\langle (x_1, y_1), \\ldots, (x_n, y_n) \\rangle \\mapsto\n",
    "\\begin{cases}\n",
    "    \\text{true} & \\text{if } n = 3 \n",
    "        \\text{ and } x_3 = \\dfrac{x_1 \\cdot y_2 + y_1 \\cdot x_2}{1 \\cdot 8 \\cdot x_1 \\cdot x_2 \\cdot y_1 \\cdot y_2}\n",
    "        \\text{ and } y_3 = \\dfrac{y_1 \\cdot y_2 - 3 \\cdot x_1 \\cdot x_2}{1 - 8 * x_1 \\cdot x_2 \\cdot y_1 \\cdot y_2}\\\\\n",
    "    \\text{false} & \\text{else}\n",
    "\\end{cases} $\n",
    "\n",
    "$L_{add} = \\{ \\langle (x_1, y_1), \\ldots, (x_n, y_n) \\rangle \\in \\Sigma^*_I x \\Sigma^*_W | R_{add}(I;W) = \\text{true} \\}$"
   ]
  },
  {
   "cell_type": "code",
   "execution_count": 18,
   "id": "dae3e0a2-bc90-489e-96ea-9cf9b6a4be73",
   "metadata": {},
   "outputs": [
    {
     "name": "stdout",
     "output_type": "stream",
     "text": [
      "((1, 2), (2, 7))\n"
     ]
    },
    {
     "data": {
      "text/plain": [
       "(6, 9)"
      ]
     },
     "execution_count": 18,
     "metadata": {},
     "output_type": "execute_result"
    }
   ],
   "source": [
    "def addition(P, Q) -> (GF, GF):\n",
    "    x1, y1 = P\n",
    "    x2, y2 = Q\n",
    "    x3 =  (x1 * y2 + y1 * x2) / (1 + d * x1 * x2 * y1 * y2) \n",
    "    y3 =  (y1 * y2 - a * x1 * x2) / (1 - d * x1 * x2 * y1 * y2)\n",
    "    return (x3, y3)\n",
    "\n",
    "F13 = GF(13)\n",
    "a, d = (3, 8)\n",
    "TE_TJJ_13 = [(x, y) for x in F13 for y in F13 if a * x^2 + y^2 == 1+ d * x^2 * y^2]\n",
    "\n",
    "print((TE_TJJ_13[2], TE_TJJ_13[5]))\n",
    "addition(TE_TJJ_13[2], TE_TJJ_13[5])"
   ]
  },
  {
   "cell_type": "markdown",
   "id": "ac9e40fc-d7a5-4831-b468-145395e35187",
   "metadata": {},
   "source": [
    "## Exercise 100.\n",
    "\n",
    "Consider the language $L_{add}$ from Exercise $99$. Define an R1CS such that words in $L_{add}$ are in 1:1 correspondence with solutions to this R1CS.\n",
    "\n",
    "## Exercise 101.\n",
    "\n",
    "Consider the circuit $C_{tiny-jj}(\\mathbb{F}_{13})$ from example $125$, with its associated language $L_{tiny-jj}$. Construct a proof $\\pi$ for the instance $\\langle 11, 6 \\rangle$ and verify the proof.\n",
    "\n",
    "## Exercise 102.\n",
    "\n",
    "Consider the Rank-1 Constraint System for points on the Tiny-jubjub curve from example $121$. Compute an associated QAP for this R1CS and double-check your computation using Sage.\n"
   ]
  },
  {
   "cell_type": "code",
   "execution_count": null,
   "id": "838f29bd-3be3-43a6-9e0c-5002fc53c98e",
   "metadata": {},
   "outputs": [],
   "source": []
  }
 ],
 "metadata": {
  "kernelspec": {
   "display_name": "SageMath 10.3",
   "language": "sage",
   "name": "sagemath-10.3"
  },
  "language_info": {
   "codemirror_mode": {
    "name": "ipython",
    "version": 3
   },
   "file_extension": ".py",
   "mimetype": "text/x-python",
   "name": "python",
   "nbconvert_exporter": "python",
   "pygments_lexer": "ipython3",
   "version": "3.11.8"
  }
 },
 "nbformat": 4,
 "nbformat_minor": 5
}
