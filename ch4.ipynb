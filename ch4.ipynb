{
 "cells": [
  {
   "cell_type": "markdown",
   "id": "17773d95-8fc6-466d-9d79-84c03923fe99",
   "metadata": {},
   "source": [
    "# Chapter 4 - Algebra\n",
    "\n",
    "## Exercise 33. \n",
    "\n",
    "Consider example 16 again, and let Z∗5 be the set of all remainder classes from Z5 without the class 0. Then Z∗ = {1,2,3,4}. Show that (Z∗,·) is a commutative group.\n",
    "\n",
    "**[others](https://github.com/ret2basic/moonmath/blob/master/algebra/README.ipynb) solution:**\n",
    "\n",
    "The map (multiplication) of all elements in\n",
    "\n",
    "have the following properties:\n",
    "\n",
    "- Closed due to multiplication\n",
    "- Associative due to multiplication\n",
    "- Commutative due to multiplication\n",
    "- Identity is \n",
    "\n",
    "Inverse exists for every element, as all elements are co-prime to With all these properties, the group is commutative. We can also see this from the table at example 16.\n",
    "\n",
    "## Exercise 34. \n",
    "\n",
    "Generalizing the previous exercise, consider the general modulus n, and let $Z^∗_n$ be the set of all remainder classes from Zn without the class 0. Then Z∗n = {1, 2, . . . , n − 1}. Provide a counter-example to show that (Z∗n,·) is not a group in general.\n",
    "Find a condition such that (Z∗n,·) is a commutative group, compute the neutral element, give a closed form for the inverse of any element and prove the commutative group axioms.\n",
    "\n",
    "**solution:**\n",
    "\n",
    "$let\\ n \\notin \\mathbb{P} \\rightarrow \\exists x \\in Z^*_n\\ s.t\\ \\nexists x^{-1}\\ \\in Z^*_n $\n",
    "\n",
    "## Exercise 35. \n",
    "\n",
    "Let $n \\in \\mathbb{N}$ with n ≥ 2 be some modulus. What is the order of the remainder class group $\\mathbb{G} = (Z_n,+)$?\n",
    "\n",
    "**solution:**\n",
    "$| \\mathbb{G}| = n$\n",
    "\n",
    "## Exercise 36. \n",
    "\n",
    "Consider the group (Z6,+) of modular 6 addition from example 11. Show that 5 ∈ Z6 is a generator, and then show that 2 ∈ Z6 is not a generator.\n",
    "\n",
    "**solution:**\n"
   ]
  },
  {
   "cell_type": "code",
   "execution_count": 1,
   "id": "b80900f6-c13d-469e-92f7-450b952ea0c0",
   "metadata": {},
   "outputs": [
    {
     "name": "stdout",
     "output_type": "stream",
     "text": [
      "0\n",
      "5\n",
      "4\n",
      "3\n",
      "2\n",
      "1\n"
     ]
    }
   ],
   "source": [
    "Z6 = Integers(6)\n",
    "G = Z6(1)\n",
    "\n",
    "for _ in range(6):\n",
    "    G += Z6(5) \n",
    "    print(G)"
   ]
  },
  {
   "cell_type": "markdown",
   "id": "29d36d75-296a-484b-a2ed-f05d263d8fa2",
   "metadata": {},
   "source": [
    "## Exercise 37. \n",
    "\n",
    "Let $p \\in \\mathbb{P}$ be prime number and $(Z^*_p,·)$ the finite group from exercise 34. Show that $(Z^*_p,·)$ is cyclic.\n",
    "\n",
    "**solution:**\n",
    "\n",
    "let $ \\forall a\\ s.t\\ 1 < a < p: gcd(a, p) = 1 \\rightarrow a^p \\equiv a (\\textrm{mod}\\ p) \\rightarrow a^1 \\equiv a (\\textrm{mod } p)$\n",
    "\n",
    "## Excercise 38.\n",
    "\n",
    "(Efficient Scalar Multiplication). Let (G,+) be a finite cyclic group of order n. Consider algorithm 5 and define its analog for groups in additive notation.\n",
    "\n",
    "**solution:**\n",
    "```\n",
    "Require: g group generator of order n \n",
    "Require: $x \\in Z_n$\n",
    "procedure Multiplication(g,x)\n",
    "    Let (b0,...,bk) be a binary representation of x\n",
    "    h←g\n",
    "    y←eG\n",
    "    for 0≤ j<k do\n",
    "        if\n",
    "            bj = 1 then y ← y + h\n",
    "        end if\n",
    "            h ← h + h \n",
    "    end for\n",
    "    return y \n",
    "end procedure\n",
    "Ensure: y=gx\n",
    "```\n",
    "\n",
    "## Exercise 39. \n",
    "\n",
    "Consider the previous example 40, and show that $Z^*_5[2]$ is a commutative group.\n",
    "\n",
    "**solution:**\n",
    "\n",
    "$Z^*_5[2] = {1, 4}$\n",
    "\n",
    "1. 1 · 4 = 4 · 1 = 4\n",
    "2. Assosiative because it has only two elements and nr. 1\n",
    "3. $e_{\\mathbb{G}} = 1$\n",
    "4. $1^{-1} = 1, 4^{-1} = 4$\n",
    "\n",
    "## Exercise 40. \n",
    "\n",
    "Consider the finite cyclic group (Z6,+) of modular 6 addition from example 36. Describe all subgroups of (Z6,+). Identify the large prime order subgroup of Z6, define its cofactor clearing map and apply that map to all elements of Z6.\n",
    "\n",
    "**solution:**\n",
    "\n",
    "|Z6| = 6 = 2 · 3\n",
    "\n",
    "Z6[3]; c = 2\n",
    "\n",
    "0 · 2 = 0, 1 · 2 = 2, 2 · 2 = 4, 3 · 2 = 0, 4 · 2 = 2, 5 · 2 = 4\n",
    "\n",
    "Z6[3] = {0, 2, 4}\n",
    "\n",
    "## Exercise 41. \n",
    "\n",
    "Let $(Z^∗_p,·)$ be the cyclic group from exercise 37. Show that, for p ≥ 5, not every element $x \\in F^*_p$ is a generator of $F^∗_p$.\n",
    "\n",
    "**solution:**\n",
    "\n",
    "$|Z^∗_p| = p - 1 = 2 · a · q; q \\in \\mathbb{P} and q < p \\rightarrow \\exists Z^∗_p[2a] and \\forall x \\in Z^∗_p[2a] x \\notin g of Z^∗_p$"
   ]
  },
  {
   "cell_type": "markdown",
   "id": "7330453c-755b-42c5-9819-19f1f9f812ff",
   "metadata": {},
   "source": [
    "## Exercise 44. \n",
    "\n",
    "Consider the multiplicative group Z^∗_{13} of modular 13 arithmetic from example 34. Choose a set of 3 generators of Z^∗_{13}, define its associated Pedersen Hash Function, and compute the Pedersen Hash of (3,7,11) ∈ Z12.\n",
    "\n",
    "**solution:**\n",
    "\n",
    "$|Z^∗_{13}| = 12 = 4 · 3$\n",
    "\n",
    "$g_{Z^∗_{13}} = \\{ 5, 7, 11 \\}$\n",
    "\n",
    "$H_{Z12} = 5^3 · 7^7 · 11^{11} = 8 · 6 · 6 = 2$\n",
    "\n",
    "\n",
    "## Exercise 45. \n",
    "\n",
    "Consider the Pedersen Hash from exercise 44. Compose it with the SHA256 hash function from example 47 to define a hash-to-group function. Implement that function in Sage."
   ]
  },
  {
   "cell_type": "code",
   "execution_count": 2,
   "id": "12079f83-18b2-4fc4-af8c-0311b655efdf",
   "metadata": {},
   "outputs": [
    {
     "name": "stdout",
     "output_type": "stream",
     "text": [
      "3 7 9\n"
     ]
    }
   ],
   "source": [
    "from hashlib import sha256\n",
    "\n",
    "Z13POS = Integers(13)\n",
    "\n",
    "def SHA256_H(x):\n",
    "    hasher = sha256(x)\n",
    "    digest = hasher.hexdigest()\n",
    "    z = ZZ(digest, 16) # cast into integer\n",
    "    z_bin = z.digits(base=2, padto=256) # cast to 256\n",
    "    return Z13POS(5)**z_bin[0] * Z13POS(7)**z_bin[1] * Z13POS(11)**z_bin[2]\n",
    "\n",
    "print(SHA256_H(b\"\"), SHA256_H(b\"SHA\"), SHA256_H(b\"Math\"))"
   ]
  },
  {
   "cell_type": "markdown",
   "id": "e956b36b-3b38-4a75-b066-b22582963081",
   "metadata": {},
   "source": [
    "## Exercise 46. \n",
    "\n",
    "Consider the multiplicative group $\\mathbb{Z}^∗_{13}$ of modular 13 arithmetic from example 34 and the parameter k = 3. Choose a generator of $\\mathbb{Z}^∗_{13}$, a seed and instantiate a member of the 13 family given in (4.27) for that seed. Evaluate that member on the binary string < 1, 0, 1 >"
   ]
  },
  {
   "cell_type": "code",
   "execution_count": 3,
   "id": "51694269-5c5d-4836-80d4-e633e0e4b671",
   "metadata": {},
   "outputs": [
    {
     "name": "stdout",
     "output_type": "stream",
     "text": [
      "random elements: [3, 8, 8]\n"
     ]
    },
    {
     "data": {
      "text/plain": [
       "2"
      ]
     },
     "execution_count": 3,
     "metadata": {},
     "output_type": "execute_result"
    }
   ],
   "source": [
    "from math import prod\n",
    "\n",
    "bin_str = b'101'\n",
    "Z13POS.random_element()\n",
    "random_elements = []\n",
    "while len(random_elements) < 3:\n",
    "    x = Z13POS.random_element()\n",
    "    if x != 0:\n",
    "        random_elements.append(x)\n",
    "print(f\"random elements: {random_elements}\")\n",
    "\n",
    "def dhh_pseudorandom(bit_string: bytearray, seed: [int]) -> Z13POS:\n",
    "    G = Z13POS(7)\n",
    "    exponent = seed[0] * prod([a**b for (a, b) in  zip(seed[1:], bit_string[1:])])\n",
    "    return G ** exponent\n",
    "\n",
    "dhh_pseudorandom(bin_str, random_elements)"
   ]
  },
  {
   "cell_type": "markdown",
   "id": "5de4c5c8-791e-44fd-8b73-917611ed494d",
   "metadata": {},
   "source": [
    "## Exercise 47. \n",
    "\n",
    "Consider the ring of modular 5 arithmetics ($Z_5$,+,·) from example 16. Show that ($Z_5$,+,·) is a field. What is the characteristic of $Z_5$? Prove that the equation a·x = b has only a single solution x ∈ $Z_5$ for any given a,b ∈ $Z^*_5$.\n",
    "\n",
    "## Exercise 48. \n",
    "\n",
    "Consider the ring of modular 6 arithmetics ($Z_6$,+,·) from example 11. Show that ($Z_6$,+,·) is not a field.\n",
    "\n",
    "**response**:\n",
    "\n",
    "as 6 in not prime, not all a in 0..5 have a multiplicative inverse. More concretelly, the ones which gcd(a, 6) != 1. These are 2 and 3:\n",
    "\n",
    "$2 * a^{-1} = 1 \\mod 6$"
   ]
  },
  {
   "cell_type": "code",
   "execution_count": 4,
   "id": "1437337f-b2f4-412a-af08-82ebd6d5adc8",
   "metadata": {},
   "outputs": [
    {
     "name": "stdout",
     "output_type": "stream",
     "text": [
      "Z6(2) has no multiplicative inverse\n"
     ]
    }
   ],
   "source": [
    "Z6 = Integers(6)\n",
    "\n",
    "inverse_found = False\n",
    "for a in range(6):\n",
    "    if Z6(a) * Z6(2) == Z6(1):\n",
    "        inverse_found = True\n",
    "        print(f\"inverse of 2 found: {a}\")\n",
    "\n",
    "if not inverse_found:     \n",
    "    print(f\"Z6(2) has no multiplicative inverse\")"
   ]
  },
  {
   "cell_type": "markdown",
   "id": "d68ea39f-6626-49bd-8892-245fd5d0f0a6",
   "metadata": {},
   "source": [
    "## Exercise 49 (Prime field F3). \n",
    "\n",
    "Construct the addition and multiplication table of the prime field $F_3$.\n",
    "\n",
    "## Exercise 50 (Prime field F13). \n",
    "\n",
    "Construct the addition and multiplication table of the prime field $F_{13}$."
   ]
  },
  {
   "cell_type": "code",
   "execution_count": 5,
   "id": "a417f045-25ed-4bfe-afeb-c73207a1cf0a",
   "metadata": {},
   "outputs": [
    {
     "name": "stdout",
     "output_type": "stream",
     "text": [
      "---------- Exc 49 ----------\n",
      "Sum matrix of F_3:\n",
      "[0 1 2]\n",
      "[1 2 0]\n",
      "[2 0 1]\n",
      "Mul matrix of F_3:\n",
      "[0 0 0]\n",
      "[0 1 2]\n",
      "[0 2 1]\n",
      "---------- Exc 50 ----------\n",
      "Sum matrix of F_13:\n",
      "[ 0  1  2  3  4  5  6  7  8  9 10 11 12]\n",
      "[ 1  2  3  4  5  6  7  8  9 10 11 12  0]\n",
      "[ 2  3  4  5  6  7  8  9 10 11 12  0  1]\n",
      "[ 3  4  5  6  7  8  9 10 11 12  0  1  2]\n",
      "[ 4  5  6  7  8  9 10 11 12  0  1  2  3]\n",
      "[ 5  6  7  8  9 10 11 12  0  1  2  3  4]\n",
      "[ 6  7  8  9 10 11 12  0  1  2  3  4  5]\n",
      "[ 7  8  9 10 11 12  0  1  2  3  4  5  6]\n",
      "[ 8  9 10 11 12  0  1  2  3  4  5  6  7]\n",
      "[ 9 10 11 12  0  1  2  3  4  5  6  7  8]\n",
      "[10 11 12  0  1  2  3  4  5  6  7  8  9]\n",
      "[11 12  0  1  2  3  4  5  6  7  8  9 10]\n",
      "[12  0  1  2  3  4  5  6  7  8  9 10 11]\n",
      "Mul matrix of F_13:\n",
      "[ 0  0  0  0  0  0  0  0  0  0  0  0  0]\n",
      "[ 0  1  2  3  4  5  6  7  8  9 10 11 12]\n",
      "[ 0  2  4  6  8 10 12  1  3  5  7  9 11]\n",
      "[ 0  3  6  9 12  2  5  8 11  1  4  7 10]\n",
      "[ 0  4  8 12  3  7 11  2  6 10  1  5  9]\n",
      "[ 0  5 10  2  7 12  4  9  1  6 11  3  8]\n",
      "[ 0  6 12  5 11  4 10  3  9  2  8  1  7]\n",
      "[ 0  7  1  8  2  9  3 10  4 11  5 12  6]\n",
      "[ 0  8  3 11  6  1  9  4 12  7  2 10  5]\n",
      "[ 0  9  5  1 10  6  2 11  7  3 12  8  4]\n",
      "[ 0 10  7  4  1 11  8  5  2 12  9  6  3]\n",
      "[ 0 11  9  7  5  3  1 12 10  8  6  4  2]\n",
      "[ 0 12 11 10  9  8  7  6  5  4  3  2  1]\n"
     ]
    }
   ],
   "source": [
    "\n",
    "def sum_matrix(p):\n",
    "    print(f\"Sum matrix of F_{p}:\")\n",
    "    print(matrix(GF(p), p, p, lambda i, j: i+j))\n",
    "\n",
    "def mul_matrix(p):\n",
    "    print(f\"Mul matrix of F_{p}:\")\n",
    "    print(matrix(GF(p), p, p, lambda i, j: i*j))\n",
    "\n",
    "print('-' * 10 + ' Exc 49 ' + '-' * 10)\n",
    "sum_matrix(3)\n",
    "mul_matrix(3)\n",
    "\n",
    "print('-' * 10 + ' Exc 50 ' + '-' * 10)\n",
    "sum_matrix(13)\n",
    "mul_matrix(13)"
   ]
  },
  {
   "cell_type": "markdown",
   "id": "c649d28e-5b39-44f8-a540-589866599dbd",
   "metadata": {},
   "source": [
    "## Exercise 51. \n",
    "\n",
    "Consider the prime field $F_{13}$ from exercise 50. Find the set of all pairs (x, y) ∈ $F_{13}$ × $F_{13}$ that satisfy the following equation:\n",
    "x2 +y2 = 1+7·x2 ·y2"
   ]
  },
  {
   "cell_type": "code",
   "execution_count": 17,
   "id": "f557e41d-dba6-4cfd-bf23-eb79d71ba571",
   "metadata": {},
   "outputs": [
    {
     "name": "stdout",
     "output_type": "stream",
     "text": [
      "[12  0  3  8  2 11  9  9 11  2  8  3  0]\n",
      "[ 0  7  2 11  8  6  5  5  6  8 11  2  7]\n",
      "[ 3  2 12  7  0  4  6  6  4  0  7 12  2]\n",
      "[ 8 11  7  9  4  5 12 12  5  4  9  7 11]\n",
      "[ 2  8  0  4  7  9 10 10  9  7  4  0  8]\n",
      "[11  6  4  5  9  3  0  0  3  9  5  4  6]\n",
      "[ 9  5  6 12 10  0  8  8  0 10 12  6  5]\n",
      "[ 9  5  6 12 10  0  8  8  0 10 12  6  5]\n",
      "[11  6  4  5  9  3  0  0  3  9  5  4  6]\n",
      "[ 2  8  0  4  7  9 10 10  9  7  4  0  8]\n",
      "[ 8 11  7  9  4  5 12 12  5  4  9  7 11]\n",
      "[ 3  2 12  7  0  4  6  6  4  0  7 12  2]\n",
      "[ 0  7  2 11  8  6  5  5  6  8 11  2  7]\n",
      "solutions x,y: [(0, 1), (0, 12), (1, 0), (2, 4), (2, 9), (4, 2), (4, 11), (5, 6), (5, 7), (6, 5), (6, 8), (7, 5), (7, 8), (8, 6), (8, 7), (9, 2), (9, 11), (11, 4), (11, 9), (12, 0)]\n"
     ]
    }
   ],
   "source": [
    "f = lambda x, y: (x^2 + y^2) - (1 + 7 * x^2 * y^2)\n",
    "p = 13\n",
    "F_p = GF(p)\n",
    "mat = matrix(F_p, p, p, f)\n",
    "print(mat)\n",
    "sol = [(i, j) for i, x in enumerate(mat) for j, y in enumerate(x) if y == 0]\n",
    "for x, y in sol:\n",
    "    assert F_p(x^2 + y^2) == F_p(1 + 7 * x^2 * y^2) \n",
    "\n",
    "print(f\"solutions x,y: {sol}\")"
   ]
  },
  {
   "cell_type": "markdown",
   "id": "7aa099f7-9b35-448c-a4e3-3246d340bf51",
   "metadata": {},
   "source": [
    "## Exercise 52. \n",
    "\n",
    "Consider the prime field F13 from exercise 50. Compute the Legendre symbol x/13 andthe set of roots √x for all elements x ∈ F13."
   ]
  },
  {
   "cell_type": "code",
   "execution_count": 22,
   "id": "9685ef65-292f-4d4c-adc5-4ca459bc940f",
   "metadata": {},
   "outputs": [
    {
     "data": {
      "text/plain": [
       "[0, 1, 3, 4, 9, 10, 12]"
      ]
     },
     "execution_count": 22,
     "metadata": {},
     "output_type": "execute_result"
    }
   ],
   "source": [
    "F_13 = GF(13)\n",
    "\n",
    "roots_set = [a for a in F_13 if a^((13-1)/2) <= 1]\n",
    "roots_set"
   ]
  },
  {
   "cell_type": "markdown",
   "id": "511d9a5e-dca4-423a-b5f1-84b9af15e69f",
   "metadata": {},
   "source": [
    "## Exercise 53. \n",
    "\n",
    "Consider the extension field F32 from the previous example and find all pairs of elements (x, y) ∈ F32 , for which the following equation holds:\n",
    "y2 =x3+4 (4.54)\n",
    "\n"
   ]
  },
  {
   "cell_type": "code",
   "execution_count": 25,
   "id": "fba60a4e-9fb9-4287-b013-76ed1f3cc114",
   "metadata": {},
   "outputs": [
    {
     "data": {
      "text/plain": [
       "[(0, 1), (2, 0), (0, 2)]"
      ]
     },
     "execution_count": 25,
     "metadata": {},
     "output_type": "execute_result"
    }
   ],
   "source": [
    "F_3_sqr = GF(3^2)\n",
    "\n",
    "[(x, y) for (x, y) in F_3_sqr if y^2 == x^3 + 4]"
   ]
  },
  {
   "cell_type": "markdown",
   "id": "95bae80e-5073-43d0-8b66-8c2e87909646",
   "metadata": {},
   "source": [
    "## Exercise 54. \n",
    "\n",
    "Show that the polynomial Q = x2 + x + 2 from F3[x] is irreducible. Construct the multiplication table of F32 with respect to Q and compare it to the multiplication table of F32 from example 68."
   ]
  },
  {
   "cell_type": "code",
   "execution_count": 40,
   "id": "b9bc516d-bf28-47c6-84ef-e8bc2b497f61",
   "metadata": {},
   "outputs": [
    {
     "data": {
      "text/plain": [
       "[0 0 0 0 0 0 0 0 0]\n",
       "[0 1 2 0 1 2 0 1 2]\n",
       "[0 2 1 0 2 1 0 2 1]\n",
       "[0 0 0 0 0 0 0 0 0]\n",
       "[0 1 2 0 1 2 0 1 2]\n",
       "[0 2 1 0 2 1 0 2 1]\n",
       "[0 0 0 0 0 0 0 0 0]\n",
       "[0 1 2 0 1 2 0 1 2]\n",
       "[0 2 1 0 2 1 0 2 1]"
      ]
     },
     "execution_count": 40,
     "metadata": {},
     "output_type": "execute_result"
    }
   ],
   "source": [
    "F_3 = GF(3)\n",
    "R.<x> = PolynomialRing(F_3)\n",
    "Q = x^2 + x + 2\n",
    "\n",
    "# Q is irreductible\n",
    "for a in F_3:\n",
    "    assert Q(a) != 0\n",
    "\n",
    "#or F_32.<u> = F_3.extension(Q)\n",
    "F_32.<u> = GF(3^2, modulus=Q) \n",
    "\n",
    "matrix(F_32, 9, 9, lambda x, y: x * y)"
   ]
  },
  {
   "cell_type": "markdown",
   "id": "d398bd34-3e96-4d8b-8bac-e15b8cdb80d8",
   "metadata": {},
   "source": [
    "## Exercise55. \n",
    "Show that the polynomial $P=t^3+t+1$ from $F_5[t]$ is irreducible. Then consider the extension field F_{5^3} defined relative to P. Compute the multiplicative inverse of $(2t^2+4) \\in F_{5^3}$ using the Extended Euclidean Algorithm. Then find all $x \\in F_{5^3}$ that solve the following equation:\n",
    "\n",
    "$(2t^2 +4)(x−(t^2 +4t +2)) = (2t +3)$"
   ]
  },
  {
   "cell_type": "code",
   "execution_count": 56,
   "id": "476638bd-dc67-4899-bf07-995efe6581aa",
   "metadata": {},
   "outputs": [
    {
     "name": "stdout",
     "output_type": "stream",
     "text": [
      "we have that x is equal to the polynomial: v^2 + 2\n",
      "the slutions to the polynomial are: []\n"
     ]
    }
   ],
   "source": [
    "F5 = GF(5)\n",
    "R.<t> = PolynomialRing(F5)\n",
    "P = t^3 + t + 1\n",
    "\n",
    "for a in F5:\n",
    "    assert P(a) != 0\n",
    "\n",
    "F53.<v> = GF(5^3, modulus=P)\n",
    "\n",
    "f = 2 * v^2 + 4\n",
    "\n",
    "gcd, f_inv, b = xgcd(f, P)\n",
    "assert gcd == 1\n",
    "\n",
    "x = (2*v + 3) * f_inv + (v^2 + 4*v + 2)\n",
    "print(f\"we have that x is equal to the polynomial: {x}\")\n",
    "print(f\"the slutions to the polynomial are: {x.roots(F53, multiplicities=False)}\")"
   ]
  },
  {
   "cell_type": "markdown",
   "id": "fd26dd3d-5f11-45e0-97e1-8bd4368e9ec7",
   "metadata": {},
   "source": [
    "## Exercise 56. \n",
    "\n",
    "Consider the prime field F5. Show that the polynomial P = x2 + 2 from F5[x] isirreducible. Implement the finite field F52 in Sage."
   ]
  },
  {
   "cell_type": "code",
   "execution_count": 57,
   "id": "21c06e84-db37-4afc-bcf5-22e93fd853d9",
   "metadata": {},
   "outputs": [],
   "source": [
    "P = t^2 + 2\n",
    "\n",
    "for a in F5:\n",
    "    assert P(a) != 0\n",
    "\n",
    "F52.<v> = GF(5^2, modulus=P)"
   ]
  },
  {
   "cell_type": "markdown",
   "id": "52404d62-32ff-4d86-a5b5-c5cdfbe8461c",
   "metadata": {},
   "source": [
    "## Exercise 57. \n",
    "\n",
    "Construct the so-called Fano plane, that is, the projective plane over the finite field $F_2$."
   ]
  },
  {
   "cell_type": "code",
   "execution_count": 60,
   "id": "16f68dbd-e617-416a-954f-3013c8d8ff3a",
   "metadata": {},
   "outputs": [
    {
     "name": "stdout",
     "output_type": "stream",
     "text": [
      "points\n",
      "[(0 : 0 : 1), (0 : 1 : 1), (1 : 0 : 1), (1 : 1 : 1), (0 : 1 : 0), (1 : 1 : 0), (1 : 0 : 0)]\n",
      "affine points\n",
      "[(0 : 0 : 1), (0 : 1 : 1), (1 : 0 : 1), (1 : 1 : 1)]\n",
      "points at infinity\n",
      "[(0 : 1 : 0), (1 : 1 : 0), (1 : 0 : 0)]\n"
     ]
    }
   ],
   "source": [
    "# Define the finite field F2\n",
    "F2 = GF(2)\n",
    "\n",
    "# Define the polynomial ring over F2\n",
    "R.<x> = PolynomialRing(F2)\n",
    "\n",
    "# Define the extension field of F2\n",
    "F4.<alpha> = GF(2^2)\n",
    "\n",
    "# Projective space of dimension 2 over F2\n",
    "P = ProjectiveSpace(F2, 2)\n",
    "\n",
    "# Get the points in the projective space\n",
    "points = P.rational_points()\n",
    "print(\"points\")\n",
    "print(points)\n",
    "\n",
    "# Separate affine points and points at infinity\n",
    "affine_points = [p for p in points if p[2] == 1]\n",
    "points_at_infinity = [p for p in points if p[2] == 0]\n",
    "\n",
    "print(\"affine points\")\n",
    "print(affine_points)\n",
    "print(\"points at infinity\")\n",
    "print(points_at_infinity)"
   ]
  },
  {
   "cell_type": "code",
   "execution_count": null,
   "id": "70070e8a-be6e-4fb9-93bd-f4d429890929",
   "metadata": {},
   "outputs": [],
   "source": []
  }
 ],
 "metadata": {
  "kernelspec": {
   "display_name": "SageMath 10.3",
   "language": "sage",
   "name": "sagemath-10.3"
  },
  "language_info": {
   "codemirror_mode": {
    "name": "ipython",
    "version": 3
   },
   "file_extension": ".py",
   "mimetype": "text/x-python",
   "name": "python",
   "nbconvert_exporter": "python",
   "pygments_lexer": "ipython3",
   "version": "3.11.1"
  }
 },
 "nbformat": 4,
 "nbformat_minor": 5
}
