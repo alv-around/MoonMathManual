{
 "cells": [
  {
   "cell_type": "code",
   "execution_count": null,
   "id": "e69b0490-86b1-4c54-822a-8d40bab5df4e",
   "metadata": {},
   "outputs": [],
   "source": []
  }
 ],
 "metadata": {
  "kernelspec": {
   "display_name": "",
   "name": ""
  },
  "language_info": {
   "name": ""
  }
 },
 "nbformat": 4,
 "nbformat_minor": 5
}
